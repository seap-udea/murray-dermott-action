{
 "cells": [
  {
   "cell_type": "markdown",
   "metadata": {},
   "source": [
    "<style>\n",
    "\n",
    "  .nine h4 {\n",
    "  text-align:center; font-size:20px; color:#8a8787; letter-spacing:1px;\n",
    "  font-family:'Brush Script MT', cursive; font-weight:400;\n",
    "}  \n",
    "  .nine h1 {\n",
    "  text-align:center; font-size:50px; text-transform:uppercase; color:#fef7f7; letter-spacing:1px;\n",
    "  font-family:\"Playfair Display\", serif; font-weight:400;\n",
    "}\n",
    ".nine h1 span {\n",
    "  margin-top: 5px;\n",
    "    font-size:15px; color:#9e9a9a; word-spacing:1px; font-weight:normal; letter-spacing:2px;\n",
    "    text-transform: uppercase; font-family:\"Raleway\", sans-serif; font-weight:500;\n",
    "\n",
    "    display: grid;\n",
    "    grid-template-columns: 1fr max-content 1fr;\n",
    "    grid-template-rows: 27px 0;\n",
    "    grid-gap: 20px;\n",
    "    align-items: center;\n",
    "}\n",
    "\n",
    ".nine h1 span:after,.nine h1 span:before {\n",
    "    content: \" \";\n",
    "    display: block;\n",
    "    border-bottom: 1px solid #ccc;\n",
    "    border-top: 1px solid #ccc;\n",
    "    height: 5px;\n",
    "  background-color:#f8f8f8;\n",
    "}\n",
    "</style>\n",
    "\n",
    "<div class=\"nine\">\n",
    "  <h4><i>Chapter 11. </i></h4>\n",
    "  <h1>The lambert problem<span>Juanita A. Agudelo</span></h1>\n",
    "</div>"
   ]
  },
  {
   "cell_type": "markdown",
   "metadata": {},
   "source": [
    "\n",
    "<style>\n",
    "        p {\n",
    "            text-align: justify;\n",
    "        }\n",
    "</style>\n",
    "<p>In this notebook we will present theory from the Lambert Problem related to mechanical orbits and some mathematical and numerical results which are interested for the theory. In celestial mechanics, Lambert's problem is concerned with the determination of an orbit from two position vectors and the time of flight, posed in the 18th century by Johann Heinrich Lambert and formally solved with mathematical proof by Joseph-Louis Lagrange. It has important applications in the areas of rendezvous, targeting, guidance, and preliminary orbit determination.Suppose a body under the influence of a central gravitational force is observed to travel from point P1 on its conic trajectory, to a point P2 in a time T. The time of flight is related to other variables by Lambert's theorem, which states: </p>\n",
    "\n",
    "    The transfer time of a body moving between two points on a conic trajectory is a function only of the sum of the distances of the two points from the origin of the force, the linear distance between the points, and the semimajor axis of the conic.\n",
    "\n",
    "👉 😭 For details on the theory please refer directly to the book:\n",
    "> Prussing, J. E., & Conway, B. A. (1993). Orbital Mechanics. Oxford university press."
   ]
  },
  {
   "cell_type": "markdown",
   "metadata": {},
   "source": [
    "<style>\n",
    "        p {\n",
    "            text-align: justify;\n",
    "        }\n",
    "</style>\n",
    "\n",
    "<p>The Lambert problem is about solving a fundamental problem in astrodynamics, how to travel from one point to another in space?. The Lambert problem aims to find an orbit that connects the positions of two bodies in space and the flight time that separates them. There are various applications that are currently used, for example, when a spacecraft is launched into space, it is necessary to calculate the route and the time it takes to travel to its target, which can be a planet or another spacecraft moving in a known orbit. We say that the spacecraft <i>intercepts</i> the target when their positions coincide, or the spacecraft <i>rendezvous</i> with the target when they meet at the same position and velocity. Other examples may include scheduling of encounters or approaches and determination of spacecraft orbits.\n",
    "\n",
    "In this section, we will develop the theoretical and practical concepts of the Lambert problem, its applications in real space travel, and how they help us understand the usefulness of this problem. To begin, we will illustrate a very common example in the world of space travel. It involves a spacecraft carrying supplies or even people to the International Space Station (ISS). In this case, the objective, the ISS, has an orbit that we already know, and the spacecraft, which in this case is the Russian Soyuz spacecraft, must properly dock with the space station by matching their positions and velocities to successfully take the crew of the soyuz to the space station. In summary, the Soyuz must rendezvous with the ISS.\n",
    "\n",
    "To provide historical context to the exercise, let us imagine that the space mission is the Soyuz TMA-9. The Soyuz TMA series operated between 2002 and 2011 to transport crews to the International Space Station and serve as an emergency vehicle for it. It is a modified version of the Soyuz TM and its predecessors, with improvements in digital equipment and cabin space due to the height of the astronauts.</p>"
   ]
  },
  {
   "cell_type": "markdown",
   "metadata": {},
   "source": [
    "<style>\n",
    "#hp  {\n",
    "float: left;    \n",
    " margin: 0 10px 0 8px;\n",
    " \n",
    "}\n",
    " .title {\n",
    "  text-align:center; font-size:20px; color:#fef7f7; letter-spacing:1px;\n",
    "  font-family:\"Playfair Display\", serif; font-weight:400;\n",
    "} \n",
    "td{\n",
    "  text-align: justify;\n",
    "}\n",
    "img {\n",
    "  border-radius: 70%;\n",
    "}\n",
    "</style>\n",
    "\n",
    "<table style=\"width:50%; margin-left:auto;margin-right:auto;\">\n",
    "    <thead>\n",
    "        <tr>\n",
    "            <th class=\"title\" colspan=\"2\" style=\"font-size:30px\"><center>The first space tourist</center></th>\n",
    "        </tr>\n",
    "    </thead>\n",
    "    <tbody>\n",
    "        <tr>\n",
    "            <td colspan=\"2\">\n",
    "            <img src=\"Anousheh.jpg\" alt=\"Anousheh Ansari, the first space tourist\" width=\"230\" height=\"200\" id=\"hp\"/>\n",
    "            The Soyuz TMA-9 mission was a spaceflight launched on September 18, 2006, and lasted for about 10 days. The mission was a part of the International Space Station (ISS) program and was carried out by the Russian Federal Space Agency (Roscosmos).\n",
    "            The Soyuz TMA-9 spacecraft carried three crew members to the ISS: Russian cosmonaut Mikhail Tyurin, American astronaut Michael Lopez-Alegria, and the first space tourist, Iranian-American entrepreneur Anousheh Ansari. Ansari paid a reported $20 million for her trip to the ISS, which made her the fourth privately funded space tourist and the first female space tourist.\n",
    "\n",
    "During her stay on the ISS, Ansari conducted various experiments and communicated with people on the Earth through a blog. She also became the first person to deliver a video message from space to the TED Conference, which was held in Monterey, California.\n",
    "\n",
    "The Soyuz TMA-9 mission marked a significant milestone in the history of space travel, as it demonstrated that private individuals could travel to space by paying for their trips. This paved the way for the development of commercial spaceflight and space tourism, which has gained momentum in recent years.\n",
    "</td>\n",
    "        </tr>\n",
    "    </tbody>\n",
    "</table>"
   ]
  },
  {
   "cell_type": "code",
   "execution_count": null,
   "metadata": {},
   "outputs": [],
   "source": []
  }
 ],
 "metadata": {
  "kernelspec": {
   "display_name": "Python 3 (ipykernel)",
   "language": "python",
   "name": "python3"
  },
  "language_info": {
   "codemirror_mode": {
    "name": "ipython",
    "version": 3
   },
   "file_extension": ".py",
   "mimetype": "text/x-python",
   "name": "python",
   "nbconvert_exporter": "python",
   "pygments_lexer": "ipython3",
   "version": "3.9.7"
  }
 },
 "nbformat": 4,
 "nbformat_minor": 2
}
