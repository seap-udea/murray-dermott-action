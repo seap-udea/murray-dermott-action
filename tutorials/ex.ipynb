{
 "cells": [
  {
   "cell_type": "markdown",
   "metadata": {},
   "source": [
    "<style>\n",
    "        p {\n",
    "                text-align: justify; color:#f14848; \n",
    "        }\n",
    "\n",
    "        .evelyn{\n",
    "                text-align: center; font-size: 40px; color:#3fabee; \n",
    "        }\n",
    "\n",
    "        #webb{\n",
    "                display: block;\n",
    "                margin: auto;\n",
    "                border-radius: 90px;\n",
    "                width: 500px;\n",
    "        }\n",
    "\n",
    "</style>    \n",
    "<h1 class=\"evelyn\"><b>L2</b> es la casa donde se ubica el telescopio James Webb</h1>\n",
    "\n",
    "<p>When you ask an astronomer about the James Webb Space Telescope's orbit, they'll tell you something that sounds like it came from a science-fiction novel. The Webb won't be orbiting the Earth –instead we will send it almost a million miles out into space to a place called \"L2.\" L2 is short-hand for the second Lagrange Point, a wonderful accident of gravity and orbital mechanics, and the perfect place to park the Webb telescope in space. There are five so-called \"Lagrange Points\" - areas where gravity from the sun and Earth balance the orbital motion of a satellite. Putting a spacecraft at any of these points allows it to stay in a fixed position relative to the Earth and sun with a minimal amount of energy needed for course correction.</p>\n",
    "\n",
    "<img src=\"JW.jpg\" alt=\"Aqui esta la foto del James Webb\" id=\"webb\">\n",
    "\n"
   ]
  },
  {
   "cell_type": "code",
   "execution_count": null,
   "metadata": {},
   "outputs": [],
   "source": [
    "\n"
   ]
  }
 ],
 "metadata": {
  "kernelspec": {
   "display_name": "Python 3 (ipykernel)",
   "language": "python",
   "name": "python3"
  },
  "language_info": {
   "codemirror_mode": {
    "name": "ipython",
    "version": 3
   },
   "file_extension": ".py",
   "mimetype": "text/x-python",
   "name": "python",
   "nbconvert_exporter": "python",
   "pygments_lexer": "ipython3",
   "version": "3.9.7"
  }
 },
 "nbformat": 4,
 "nbformat_minor": 2
}
